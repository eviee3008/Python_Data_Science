{
 "cells": [
  {
   "cell_type": "markdown",
   "id": "aaf482f3-7b98-4f19-84c1-55be696fcc7f",
   "metadata": {},
   "source": [
    "## Question 1\n",
    "Write a function called `proportion_of_education` which returns the proportion of children in the dataset who had a mother with the education levels equal to less than high school (<12), high school (12), more than high school but not a college graduate (>12) and college degree.\n",
    "\n",
    "*This function should return a dictionary in the form of (use the correct numbers, do not round numbers):* \n",
    "```\n",
    "    {\"less than high school\":0.2,\n",
    "    \"high school\":0.4,\n",
    "    \"more than high school but not college\":0.2,\n",
    "    \"college\":0.2}\n",
    "```"
   ]
  },
  {
   "cell_type": "code",
   "execution_count": 4,
   "id": "7dcdfa26-57e3-4d68-8622-85319588ed38",
   "metadata": {},
   "outputs": [],
   "source": [
    "import pandas as pd\n",
    "\n",
    "def proportion_of_education():\n",
    "    # your code goes here\n",
    "    # YOUR CODE HERE\n",
    "    df = pd.read_csv('assets/NISPUF17.csv',index_col = 0)\n",
    "    education_levels = {\n",
    "    1: \"less than high school\",\n",
    "    2: \"high school\",\n",
    "    3: \"more than high school but not college\",\n",
    "    4: \"college\"\n",
    "    }\n",
    "    education_counts = {}  # Create a new dictionary to store the counts\n",
    "\n",
    "    for key, value in education_levels.items():\n",
    "        count = len(df[df[\"EDUC1\"] == key])\n",
    "        education_counts[value] = count / len(df)\n",
    "        \n",
    "    return education_counts\n",
    "    raise NotImplementedError()"
   ]
  },
  {
   "cell_type": "code",
   "execution_count": 5,
   "id": "741e6624-443b-4b1a-811e-a20764497815",
   "metadata": {},
   "outputs": [
    {
     "data": {
      "text/plain": [
       "{'less than high school': 0.10202002459160373,\n",
       " 'high school': 0.172352011241876,\n",
       " 'more than high school but not college': 0.24588090637625154,\n",
       " 'college': 0.47974705779026877}"
      ]
     },
     "execution_count": 5,
     "metadata": {},
     "output_type": "execute_result"
    }
   ],
   "source": [
    "proportion_of_education()"
   ]
  },
  {
   "cell_type": "markdown",
   "id": "0e017040-238d-4931-be71-106974718a45",
   "metadata": {},
   "source": [
    "## Question 2\n",
    "\n",
    "Let's explore the relationship between being fed breastmilk as a child and getting a seasonal influenza vaccine from a healthcare provider. Return a tuple of the average number of influenza vaccines for those children we know received breastmilk as a child and those who know did not.\n",
    "\n",
    "*This function should return a tuple in the form (use the correct numbers:*\n",
    "```\n",
    "(2.5, 0.1)\n",
    "```"
   ]
  },
  {
   "cell_type": "code",
   "execution_count": 9,
   "id": "d979eeb6-78c2-4d52-891d-8e97066f25d0",
   "metadata": {},
   "outputs": [],
   "source": [
    "def average_influenza_doses():\n",
    "    # YOUR CODE HERE\n",
    "    df = pd.read_csv('assets/NISPUF17.csv', usecols=['CBF_01','P_NUMFLU'])\n",
    "    \n",
    "    #select the two relevant variables\n",
    "    #then for only those we know the breast feeding status\n",
    "    bm_Y = df.loc[df['CBF_01'] == 1]\n",
    "    bm_N = df.loc[df['CBF_01'] == 2]\n",
    "\n",
    "    return (bm_Y['P_NUMFLU'].mean(),bm_N['P_NUMFLU'].mean())\n",
    "    raise NotImplementedError()\n",
    "    "
   ]
  },
  {
   "cell_type": "code",
   "execution_count": 10,
   "id": "7c08eb68-c219-425e-8f3d-6bfabc16b063",
   "metadata": {},
   "outputs": [
    {
     "data": {
      "text/plain": [
       "(1.8799187420058687, 1.5963945918878317)"
      ]
     },
     "execution_count": 10,
     "metadata": {},
     "output_type": "execute_result"
    }
   ],
   "source": [
    "average_influenza_doses()"
   ]
  },
  {
   "cell_type": "markdown",
   "id": "afad6fbb-8ed5-4bac-968b-efce67c968ec",
   "metadata": {},
   "source": [
    "## Question 3\n",
    "It would be interesting to see if there is any evidence of a link between vaccine effectiveness and sex of the child. Calculate the ratio of the number of children who contracted chickenpox but were vaccinated against it (at least one varicella dose) versus those who were vaccinated but did not contract chicken pox. Return results by sex. \n",
    "\n",
    "*This function should return a dictionary in the form of (use the correct numbers):* \n",
    "```\n",
    "    {\"male\":0.2,\n",
    "    \"female\":0.4}\n",
    "```\n",
    "\n",
    "Note: To aid in verification, the `chickenpox_by_sex()['female']` value the autograder is looking for starts with the digits `0.0077`."
   ]
  },
  {
   "cell_type": "code",
   "execution_count": 13,
   "id": "4ed6dc87-f0fe-42b9-8bde-f4b97854d532",
   "metadata": {},
   "outputs": [],
   "source": [
    "import pandas as pd\n",
    "def chickenpox_by_sex():\n",
    "    # YOUR CODE HERE\n",
    "    df = pd.read_csv('assets/NISPUF17.csv', usecols=['HAD_CPOX',\n",
    "                                                     'P_NUMVRC',\n",
    "                                                     'SEX',])\n",
    "\n",
    "    # Read the CSV file and select specific columns\n",
    "    df = pd.read_csv('assets/NISPUF17.csv', usecols=['HAD_CPOX', 'P_NUMVRC', 'SEX'])\n",
    "\n",
    "    #those who had cpox and vaccine AND those who didn't have cpox but had vaccine\n",
    "    had_cpox_vaccine = df[(df['HAD_CPOX'] == 1) & (df['P_NUMVRC'] > 0)]\n",
    "    no_cpox_vaccine = df[(df['HAD_CPOX'] == 2) & (df['P_NUMVRC'] > 0)]\n",
    "\n",
    "    # Calculate ratios\n",
    "    male_ratio = len(had_cpox_vaccine[had_cpox_vaccine['SEX'] == 1]) / len(no_cpox_vaccine[no_cpox_vaccine['SEX'] == 1])\n",
    "    female_ratio = len(had_cpox_vaccine[had_cpox_vaccine['SEX'] == 2]) / len(no_cpox_vaccine[no_cpox_vaccine['SEX'] == 2])\n",
    "\n",
    "    # Return results by sex\n",
    "    result = {\"male\":male_ratio, \"female\":female_ratio}\n",
    "    \n",
    "    return result\n",
    "    raise NotImplementedError()"
   ]
  },
  {
   "cell_type": "markdown",
   "id": "b057a09a-c5b1-41fc-a849-5465804502cd",
   "metadata": {},
   "source": [
    "## Question 4\n",
    "A correlation is a statistical relationship between two variables. If we wanted to know if vaccines work, we might look at the correlation between the use of the vaccine and whether it results in prevention of the infection or disease [1]. \n",
    "\n",
    "In this question, you are to see if there is a correlation between having had the chicken pox and the number of chickenpox vaccine doses given (varicella).\n"
   ]
  },
  {
   "cell_type": "code",
   "execution_count": 18,
   "id": "ad1abfc2-a57d-44d0-9607-b2ccaa6c24f5",
   "metadata": {},
   "outputs": [],
   "source": [
    "def corr_chickenpox():\n",
    "    import scipy.stats as stats\n",
    "    import numpy as np\n",
    "    import pandas as pd\n",
    "    \n",
    "    df = pd.read_csv('assets/NISPUF17.csv', usecols=['HAD_CPOX', 'P_NUMVRC'])\n",
    "    df = df[(df['HAD_CPOX'].notna()) & (df['HAD_CPOX'] < 3) & (df['P_NUMVRC'].notna())]\n",
    "    \n",
    "\n",
    "    # here is some stub code to actually run the correlation\n",
    "    corr, pval= stats.pearsonr(df[\"HAD_CPOX\"],df[\"P_NUMVRC\"])\n",
    "    \n",
    "    # just return the correlation\n",
    "    return corr\n",
    "\n",
    "    # YOUR CODE HERE\n",
    "    raise NotImplementedError()"
   ]
  },
  {
   "cell_type": "code",
   "execution_count": 19,
   "id": "6555606e-aa3a-458a-bb68-afb116ec6358",
   "metadata": {},
   "outputs": [
    {
     "data": {
      "text/plain": [
       "0.07044873460148016"
      ]
     },
     "execution_count": 19,
     "metadata": {},
     "output_type": "execute_result"
    }
   ],
   "source": [
    "corr_chickenpox()"
   ]
  },
  {
   "cell_type": "code",
   "execution_count": null,
   "id": "0650b537-2186-42e3-bf08-144fb0304d03",
   "metadata": {},
   "outputs": [],
   "source": []
  }
 ],
 "metadata": {
  "kernelspec": {
   "display_name": "Python 3 (ipykernel)",
   "language": "python",
   "name": "python3"
  },
  "language_info": {
   "codemirror_mode": {
    "name": "ipython",
    "version": 3
   },
   "file_extension": ".py",
   "mimetype": "text/x-python",
   "name": "python",
   "nbconvert_exporter": "python",
   "pygments_lexer": "ipython3",
   "version": "3.10.9"
  }
 },
 "nbformat": 4,
 "nbformat_minor": 5
}
