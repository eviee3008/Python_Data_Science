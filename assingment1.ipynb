{
 "cells": [
  {
   "cell_type": "markdown",
   "id": "c2084c2f-9882-4005-ad6b-b2464113ee15",
   "metadata": {},
   "source": [
    "## Part A\n",
    "\n",
    "Find a list of all of all of the names in the following string using regex."
   ]
  },
  {
   "cell_type": "code",
   "execution_count": 15,
   "id": "acb92632-5d10-4b04-a297-46882737bf3a",
   "metadata": {},
   "outputs": [],
   "source": [
    "import re\n",
    "\n",
    "def names():\n",
    "    simple_string = \"\"\"Amy is 5 years old, and her sister Mary is 2 years old. \n",
    "    Ruth and Peter, their parents, have 3 kids.\"\"\"\n",
    "\n",
    "    return re.findall(\"[A-Z][a-z]+\", simple_string)\n",
    "\n",
    "    # YOUR CODE HERE\n",
    "    raise NotImplementedError()"
   ]
  },
  {
   "cell_type": "code",
   "execution_count": 16,
   "id": "9f2c6b10-abb9-4f63-b7a0-2b627a64a6a8",
   "metadata": {},
   "outputs": [],
   "source": [
    "assert len(names()) == 4, \"There are four names in the simple_string\""
   ]
  },
  {
   "cell_type": "code",
   "execution_count": 17,
   "id": "266d0103-d7f3-420c-a605-d62dd39b4a2b",
   "metadata": {},
   "outputs": [
    {
     "data": {
      "text/plain": [
       "['Amy', 'Mary', 'Ruth', 'Peter']"
      ]
     },
     "execution_count": 17,
     "metadata": {},
     "output_type": "execute_result"
    }
   ],
   "source": [
    "names()"
   ]
  },
  {
   "cell_type": "markdown",
   "id": "6a56289c-c71d-40e5-ac16-11898c63fb21",
   "metadata": {},
   "source": [
    "# Part B\n",
    "The dataset file in assets/grades.txt contains a line separated list of people with their grade in a class. Create a regex to generate a list of just those students who received a B in the course."
   ]
  },
  {
   "cell_type": "code",
   "execution_count": 3,
   "id": "9c198d82-02f9-4e83-a56a-e18af3e8c51e",
   "metadata": {},
   "outputs": [],
   "source": [
    "import re\n",
    "\n",
    "def grades():\n",
    "    with open(\"assets/grades.txt\", \"r\") as file:\n",
    "        grades = file.readlines()\n",
    "    \n",
    "    # YOUR CODE HERE\n",
    "    grade_list = []\n",
    "    for line in grades:\n",
    "        matches = re.match(\"(^[A-Za-z]+\\s[A-Za-z]+):\\s(B)\",line,re.M)\n",
    "        if matches:\n",
    "            student = matches.group(1)\n",
    "            grade_list.append(student)\n",
    "    \n",
    "    return grade_list\n",
    "    raise NotImplementedError()\n",
    "    "
   ]
  },
  {
   "cell_type": "code",
   "execution_count": 4,
   "id": "76ebeda6-f32e-447f-8eb3-6e5913b76add",
   "metadata": {},
   "outputs": [],
   "source": [
    "assert len(grades()) == 16"
   ]
  },
  {
   "cell_type": "code",
   "execution_count": 14,
   "id": "e1fe32a9-fee6-4817-a117-3a3eac8c4643",
   "metadata": {},
   "outputs": [
    {
     "data": {
      "text/plain": [
       "['Bell Kassulke',\n",
       " 'Simon Loidl',\n",
       " 'Elias Jovanovic',\n",
       " 'Hakim Botros',\n",
       " 'Emilie Lorentsen',\n",
       " 'Jake Wood',\n",
       " 'Fatemeh Akhtar',\n",
       " 'Kim Weston',\n",
       " 'Yasmin Dar',\n",
       " 'Viswamitra Upandhye',\n",
       " 'Killian Kaufman',\n",
       " 'Elwood Page',\n",
       " 'Elodie Booker',\n",
       " 'Adnan Chen',\n",
       " 'Hank Spinka',\n",
       " 'Hannah Bayer']"
      ]
     },
     "execution_count": 14,
     "metadata": {},
     "output_type": "execute_result"
    }
   ],
   "source": [
    "grades()"
   ]
  },
  {
   "cell_type": "markdown",
   "id": "e690c2d4-83e1-4a02-9aff-9a77a257f9cd",
   "metadata": {},
   "source": [
    "## Part C\n",
    "\n",
    "Consider the standard web log file in [assets/logdata.txt](assets/logdata.txt). This file records the access a user makes when visiting a web page (like this one!). Each line of the log has the following items:\n",
    "\n",
    "* a host (e.g., '146.204.224.152') \n",
    "* a user_name (e.g., 'feest6811' **note: sometimes the user name is missing! In this case, use '-' as the value for the username.**)\n",
    "* the time a request was made (e.g., '21/Jun/2019:15:45:24 -0700')\n",
    "* the post request type (e.g., 'POST /incentivize HTTP/1.1' **note: not everything is a POST!**)\n",
    "\n",
    "Your task is to convert this into a list of dictionaries, where each dictionary looks like the following:\n",
    "```\n",
    "example_dict = {\"host\":\"146.204.224.152\", \n",
    "                \"user_name\":\"feest6811\", \n",
    "                \"time\":\"21/Jun/2019:15:45:24 -0700\",\n",
    "                \"request\":\"POST /incentivize HTTP/1.1\"}\n",
    "```"
   ]
  },
  {
   "cell_type": "code",
   "execution_count": 7,
   "id": "8dc8422b-40a1-4aa3-ba0a-ad78e616f2b6",
   "metadata": {},
   "outputs": [],
   "source": [
    "import re\n",
    "\n",
    "\n",
    "def logs():\n",
    "    with open(\"assets/logdata.txt\", \"r\") as file:\n",
    "        logdata = file.readlines()\n",
    "        dict_list = []\n",
    "        for line in logdata:\n",
    "            matches = re.match('(\\S+) - (\\S+) \\[(.*?)\\] \"(.*?)\" (\\d+) (\\d+)',line, re.M)\n",
    "            \n",
    "            if matches:\n",
    "                host = matches.group(1)\n",
    "                user_name = matches.group(2)\n",
    "                time = matches.group(3)\n",
    "                request = matches.group(4)\n",
    "                \n",
    "                new_dict = {'host':host,'user_name':user_name,'time':time,'request':request}\n",
    "                dict_list.append(new_dict)\n",
    "        return dict_list\n",
    "    \n",
    "    # YOUR CODE HERE\n",
    "    raise NotImplementedError()"
   ]
  },
  {
   "cell_type": "code",
   "execution_count": 8,
   "id": "8a913c8b-6bd1-456c-83c6-694191387ccc",
   "metadata": {},
   "outputs": [],
   "source": [
    "assert len(logs()) == 979\n",
    "\n",
    "one_item = {\n",
    "    \"host\": \"146.204.224.152\",\n",
    "    \"user_name\": \"feest6811\",\n",
    "    \"time\": \"21/Jun/2019:15:45:24 -0700\",\n",
    "    \"request\": \"POST /incentivize HTTP/1.1\",\n",
    "}\n",
    "assert (\n",
    "    one_item in logs()\n",
    "), \"Sorry, this item should be in the log results, check your formating\""
   ]
  },
  {
   "cell_type": "code",
   "execution_count": 13,
   "id": "0a213154-8d8e-4128-a3b7-9e104f3af2b0",
   "metadata": {},
   "outputs": [
    {
     "data": {
      "text/plain": [
       "[{'host': '146.204.224.152',\n",
       "  'user_name': 'feest6811',\n",
       "  'time': '21/Jun/2019:15:45:24 -0700',\n",
       "  'request': 'POST /incentivize HTTP/1.1'},\n",
       " {'host': '197.109.77.178',\n",
       "  'user_name': 'kertzmann3129',\n",
       "  'time': '21/Jun/2019:15:45:25 -0700',\n",
       "  'request': 'DELETE /virtual/solutions/target/web+services HTTP/2.0'},\n",
       " {'host': '156.127.178.177',\n",
       "  'user_name': 'okuneva5222',\n",
       "  'time': '21/Jun/2019:15:45:27 -0700',\n",
       "  'request': 'DELETE /interactive/transparent/niches/revolutionize HTTP/1.1'}]"
      ]
     },
     "execution_count": 13,
     "metadata": {},
     "output_type": "execute_result"
    }
   ],
   "source": [
    "#returning the first three items in the list\n",
    "logs()[:3]"
   ]
  },
  {
   "cell_type": "code",
   "execution_count": null,
   "id": "66589bcb-885e-45a1-bae0-38300dba30e5",
   "metadata": {},
   "outputs": [],
   "source": []
  }
 ],
 "metadata": {
  "kernelspec": {
   "display_name": "Python 3 (ipykernel)",
   "language": "python",
   "name": "python3"
  },
  "language_info": {
   "codemirror_mode": {
    "name": "ipython",
    "version": 3
   },
   "file_extension": ".py",
   "mimetype": "text/x-python",
   "name": "python",
   "nbconvert_exporter": "python",
   "pygments_lexer": "ipython3",
   "version": "3.10.9"
  }
 },
 "nbformat": 4,
 "nbformat_minor": 5
}
